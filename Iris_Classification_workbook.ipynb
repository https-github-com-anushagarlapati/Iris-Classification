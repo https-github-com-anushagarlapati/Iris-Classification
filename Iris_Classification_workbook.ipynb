{
 "cells": [
  {
   "cell_type": "markdown",
   "metadata": {
    "colab_type": "text",
    "id": "PwnTdmX87S5a"
   },
   "source": [
    "# Iris Flower Classification\n",
    "\n",
    "* Dataset : Iris Flower Dataset\n",
    "* Three flowers of iris species\n",
    "* Features: Sepal_legth, Sepal_Width,Petal_length,Petal_width ### Objective : Classify a new flower as belonging to one of the 3 classes given the 4 features"
   ]
  },
  {
   "cell_type": "code",
   "execution_count": 1,
   "metadata": {
    "colab": {},
    "colab_type": "code",
    "id": "YB9e8m537S5g"
   },
   "outputs": [],
   "source": [
    "\n",
    "# Importing Necessary Libraries\n"
   ]
  },
  {
   "cell_type": "code",
   "execution_count": 2,
   "metadata": {
    "colab": {},
    "colab_type": "code",
    "id": "8EB95ufJ7S5t"
   },
   "outputs": [],
   "source": [
    "#Load iris.csv from Scikit Library\n"
   ]
  },
  {
   "cell_type": "code",
   "execution_count": 3,
   "metadata": {
    "colab": {},
    "colab_type": "code",
    "id": "VW3UCdYK7S58"
   },
   "outputs": [],
   "source": [
    "#(Q) how many data points and features?\n"
   ]
  },
  {
   "cell_type": "code",
   "execution_count": 4,
   "metadata": {
    "colab": {},
    "colab_type": "code",
    "id": "-lzfZPlZ7S6G"
   },
   "outputs": [],
   "source": [
    "#(Q) what are the column names in our dataset?\n"
   ]
  },
  {
   "cell_type": "code",
   "execution_count": 5,
   "metadata": {
    "colab": {},
    "colab_type": "code",
    "id": "46ooQdDY7S6P"
   },
   "outputs": [],
   "source": [
    "#(Q) how many data points for each class are present?\n",
    "#(or) how many flowers for each species are present>\n"
   ]
  },
  {
   "cell_type": "markdown",
   "metadata": {
    "colab_type": "text",
    "id": "pg9iA-tK7S6X"
   },
   "source": [
    "## Exploratory Data Analysis (EDA)"
   ]
  },
  {
   "cell_type": "markdown",
   "metadata": {
    "colab_type": "text",
    "id": "gClm3t_57S6a"
   },
   "source": [
    "### Univariate ( Histogram )"
   ]
  },
  {
   "cell_type": "code",
   "execution_count": 6,
   "metadata": {
    "colab": {},
    "colab_type": "code",
    "id": "VN-r0oXX7S6e"
   },
   "outputs": [],
   "source": [
    "#Histogram of petal length\n",
    "\n",
    "\n",
    "\n"
   ]
  },
  {
   "cell_type": "code",
   "execution_count": 7,
   "metadata": {
    "colab": {},
    "colab_type": "code",
    "id": "cbSzK8El7S6n"
   },
   "outputs": [],
   "source": [
    "#Histogram of petal width\n",
    "\n"
   ]
  },
  {
   "cell_type": "code",
   "execution_count": 8,
   "metadata": {
    "colab": {},
    "colab_type": "code",
    "id": "iBcdc_Ow7S6v"
   },
   "outputs": [],
   "source": [
    "#Histogram of sepal length\n",
    "\n"
   ]
  },
  {
   "cell_type": "code",
   "execution_count": 9,
   "metadata": {
    "colab": {},
    "colab_type": "code",
    "id": "hNoCpJYe7S63"
   },
   "outputs": [],
   "source": [
    "#Histogram of sepal width\n",
    "\n",
    "\n"
   ]
  },
  {
   "cell_type": "markdown",
   "metadata": {
    "colab_type": "text",
    "id": "3uwT_MsP7S6_"
   },
   "source": [
    "### Bi-Variate Analysis ( Scatterplot )"
   ]
  },
  {
   "cell_type": "code",
   "execution_count": 10,
   "metadata": {
    "colab": {},
    "colab_type": "code",
    "id": "DexgD5Jn7S7C"
   },
   "outputs": [],
   "source": [
    "#2D scatter plot:\n",
    "\n",
    "\n"
   ]
  },
  {
   "cell_type": "code",
   "execution_count": 11,
   "metadata": {
    "colab": {},
    "colab_type": "code",
    "id": "ULlEP9KT7S7K"
   },
   "outputs": [],
   "source": [
    "#2D scatter plot with color-coding for each flower type/class.\n",
    "#here \"sns\" corresponds to seaborn.\n",
    "\n",
    "\n",
    "\n"
   ]
  },
  {
   "cell_type": "markdown",
   "metadata": {
    "colab_type": "text",
    "id": "ilNp2ucF7S7Q"
   },
   "source": [
    "### Pairplot "
   ]
  },
  {
   "cell_type": "code",
   "execution_count": null,
   "metadata": {
    "colab": {},
    "colab_type": "code",
    "id": "WGftdHFP7S7S"
   },
   "outputs": [],
   "source": [
    "\n",
    "\n"
   ]
  },
  {
   "cell_type": "markdown",
   "metadata": {
    "colab_type": "text",
    "id": "PwiJOt0L7S7a"
   },
   "source": [
    "## Data Preprocessing"
   ]
  },
  {
   "cell_type": "code",
   "execution_count": 12,
   "metadata": {
    "colab": {},
    "colab_type": "code",
    "id": "ycXD5_HO7S7c"
   },
   "outputs": [],
   "source": [
    "# Check whether our dataframe has null\n"
   ]
  },
  {
   "cell_type": "code",
   "execution_count": 13,
   "metadata": {
    "colab": {},
    "colab_type": "code",
    "id": "13KXVcim7S7j"
   },
   "outputs": [],
   "source": [
    "#(Q) what is the mean, varience and standard dieviation of the each feature?\n"
   ]
  },
  {
   "cell_type": "code",
   "execution_count": 14,
   "metadata": {
    "colab": {},
    "colab_type": "code",
    "id": "iIUuXKWF7S7q"
   },
   "outputs": [],
   "source": [
    "# Remove label (Species) and form feature list\n",
    "\n",
    "# Add Species and form label list\n"
   ]
  },
  {
   "cell_type": "markdown",
   "metadata": {
    "colab_type": "text",
    "id": "mgL_3VGl7S7y"
   },
   "source": [
    "## Machine Learning"
   ]
  },
  {
   "cell_type": "markdown",
   "metadata": {
    "colab_type": "text",
    "id": "j6CLL3gV7S70"
   },
   "source": [
    " **Classification** : samples belong to two or more classes and we want to learn from already labeled data how to predict the class of unlabeled data"
   ]
  },
  {
   "cell_type": "code",
   "execution_count": 15,
   "metadata": {
    "colab": {},
    "colab_type": "code",
    "id": "3KoVCyev7S72"
   },
   "outputs": [],
   "source": [
    "#heatmap is to identify the highly correlated features\n",
    "\n",
    "\n",
    "\n"
   ]
  },
  {
   "cell_type": "code",
   "execution_count": 16,
   "metadata": {
    "colab": {},
    "colab_type": "code",
    "id": "EE2ufkrZ7S7-"
   },
   "outputs": [],
   "source": [
    "# import ml libraries\n",
    "\n",
    "\n"
   ]
  },
  {
   "cell_type": "code",
   "execution_count": 17,
   "metadata": {
    "colab": {},
    "colab_type": "code",
    "id": "rGhH9ZC-7S8E"
   },
   "outputs": [],
   "source": [
    "#Splitting The Data into Training And Testing Dataset\n",
    "# the attribute test_size=0.3 splits the data into 70% and 30% ratio. train=70% and test=33%\n"
   ]
  },
  {
   "cell_type": "code",
   "execution_count": 18,
   "metadata": {
    "colab": {},
    "colab_type": "code",
    "id": "RfEcNtCy7S8R"
   },
   "outputs": [],
   "source": [
    "#select the algorithm\n"
   ]
  },
  {
   "cell_type": "code",
   "execution_count": 19,
   "metadata": {
    "colab": {},
    "colab_type": "code",
    "id": "MmWQSQMb7S8k"
   },
   "outputs": [],
   "source": [
    "# we train the algorithm with the training data and the training output\n"
   ]
  },
  {
   "cell_type": "code",
   "execution_count": 20,
   "metadata": {
    "colab": {},
    "colab_type": "code",
    "id": "YC7OVFfi7S9D"
   },
   "outputs": [],
   "source": [
    "#now we pass the testing data to the trained algorithm\n"
   ]
  },
  {
   "cell_type": "code",
   "execution_count": 21,
   "metadata": {
    "colab": {},
    "colab_type": "code",
    "id": "EUB1dxL57S9K"
   },
   "outputs": [],
   "source": [
    "#now we check the accuracy of the algorithm. \n",
    "#we pass the predicted output by the model and the actual output\n",
    "\n",
    "\n"
   ]
  },
  {
   "cell_type": "markdown",
   "metadata": {
    "colab_type": "text",
    "id": "EbqTQCzm7S9T"
   },
   "source": [
    "Try on your own :\n",
    "* Using Petals over Sepal for training ."
   ]
  }
 ],
 "metadata": {
  "colab": {
   "name": "Iris_Classification_workbook.ipynb",
   "provenance": []
  },
  "kernelspec": {
   "display_name": "Python 3",
   "language": "python",
   "name": "python3"
  },
  "language_info": {
   "codemirror_mode": {
    "name": "ipython",
    "version": 3
   },
   "file_extension": ".py",
   "mimetype": "text/x-python",
   "name": "python",
   "nbconvert_exporter": "python",
   "pygments_lexer": "ipython3",
   "version": "3.7.3"
  }
 },
 "nbformat": 4,
 "nbformat_minor": 1
}
